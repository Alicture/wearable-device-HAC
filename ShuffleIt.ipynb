{
 "cells": [
  {
   "cell_type": "markdown",
   "metadata": {},
   "source": [
    "## 打乱数据集提高KNN性能"
   ]
  },
  {
   "cell_type": "markdown",
   "metadata": {},
   "source": [
    "## 1. 导入包"
   ]
  },
  {
   "cell_type": "code",
   "execution_count": null,
   "metadata": {},
   "outputs": [],
   "source": [
    "import numpy as np\n",
    "import pandas as pd\n",
    "from sklearn.utils import shuffle\n"
   ]
  },
  {
   "cell_type": "markdown",
   "metadata": {},
   "source": [
    "## 2.处理数据"
   ]
  },
  {
   "cell_type": "code",
   "execution_count": null,
   "metadata": {},
   "outputs": [],
   "source": [
    "activity_df = pd.read_csv('dataset-har-PUC-Rio-ugulino.csv',sep=';',dtype={\"user\": str, \"gender\": int,\"age\":int,\n",
    "                                                                         \"how_tall_in_meters\":float,\"weight\":int,\n",
    "                                                                        \"body_mass_index\":float,\n",
    "                                                                        \"x1\":int,\"y1\":int,\"z1\":int,\n",
    "                                                                        \"x2\":int,\"y2\":int,\"z2\":int,\n",
    "                                                                        \"x3\":int,\"y3\":int,\"z3\":int,\n",
    "                                                                        \"x4\":int,\"y4\":int,\"z4\":int,\n",
    "                                                                        \"class\":str})\n",
    "# activity_df.head()\n",
    "\n",
    "class_map={'sitting':1,'sittingdown':2,'standing':3,'standingup':4,'walking':5}\n",
    "activity_df['class']=activity_df['class'].map(class_map)\n",
    "#打乱数据集\n",
    "activity_df=shuffle(activity_df)\n",
    "#导出txt\n",
    "activity_df.to_csv('test2.txt', index=False)\n",
    "activity_df.head()"
   ]
  }
 ],
 "metadata": {
  "kernelspec": {
   "display_name": "Python 3",
   "language": "python",
   "name": "python3"
  },
  "language_info": {
   "codemirror_mode": {
    "name": "ipython",
    "version": 3
   },
   "file_extension": ".py",
   "mimetype": "text/x-python",
   "name": "python",
   "nbconvert_exporter": "python",
   "pygments_lexer": "ipython3",
   "version": "3.6.4"
  }
 },
 "nbformat": 4,
 "nbformat_minor": 2
}
