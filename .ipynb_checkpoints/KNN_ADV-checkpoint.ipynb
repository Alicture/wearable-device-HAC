{
 "cells": [
  {
   "cell_type": "code",
   "execution_count": null,
   "metadata": {},
   "outputs": [],
   "source": [
    "import numpy as np\n",
    "from numpy import *\n",
    "import operator\n",
    "import matplotlib.pyplot as plt\n",
    "import pandas as pd\n",
    "import seaborn as sns\n",
    "from sklearn.model_selection import train_test_split\n",
    "import os, fnmatch\n",
    "from sklearn.preprocessing import scale\n",
    "\n",
    "def file2matrix(filename):\n",
    "    fr = open(filename)\n",
    "    numberOfLines = len(fr.readlines())         #get the number of lines in the file\n",
    "    returnMat = zeros((numberOfLines,17))        #prepare matrix to return\n",
    "    classLabelVector = []                       #prepare labels return   \n",
    "    fr = open(filename)\n",
    "    index = 0\n",
    "    for line in fr.readlines():\n",
    "        line = line.strip()\n",
    "        listFromLine = line.split(',')\n",
    "        returnMat[index,:] = listFromLine[1:18]\n",
    "        classLabelVector.append(int(listFromLine[-1]))\n",
    "        index += 1\n",
    "    return returnMat,classLabelVector\n",
    "\n",
    "\n",
    "\n",
    "def autoNorm(dataSet):\n",
    "    minVals = dataSet.min(0)\n",
    "    maxVals = dataSet.max(0)\n",
    "    ranges = maxVals - minVals\n",
    "    normDataSet = zeros(shape(dataSet))\n",
    "    m = dataSet.shape[0]\n",
    "    normDataSet = dataSet - tile(minVals, (m,1))\n",
    "    normDataSet = normDataSet/tile(ranges, (m,1))   #element wise divide\n",
    "    return normDataSet, ranges, minVals\n",
    "\n",
    "def Knn_Adv(inX, dataSet, labels, k):\n",
    "    dataSetSize = dataSet.shape[0]\n",
    "    diffMat = tile(inX, (dataSetSize,1)) - dataSet\n",
    "    sqDiffMat = diffMat**2\n",
    "    sqDistances = sqDiffMat.sum(axis=1)\n",
    "    distances = sqDistances**0.5\n",
    "    sortedDistIndicies = distances.argsort()     \n",
    "    classCount={}          \n",
    "    for i in range(k):\n",
    "        voteIlabel = labels[sortedDistIndicies[i]]\n",
    "        classCount[voteIlabel] = classCount.get(voteIlabel,0) + 1\n",
    "    sortedClassCount = sorted(classCount.items(), key=operator.itemgetter(1), reverse=True)\n",
    "    return sortedClassCount[0][0]\n",
    "\n",
    "HARDataMat,HARLabels = file2matrix('test2.txt')\n",
    "# print(HARDataMat)\n",
    "normMat, ranges, minVals = autoNorm(HARDataMat)\n",
    "hoRatio = 0.25\n",
    "m = normMat.shape[0]\n",
    "numTestVecs = int(m*hoRatio)\n",
    "errorCount = 0.0\n",
    "for i in range(numTestVecs):\n",
    "    classifierResult = Knn_Adv(normMat[i,:],normMat[numTestVecs:m,:],HARLabels[numTestVecs:m],3)\n",
    "    print (\"the classifier came back with: %d, the real answer is: %d\" % (classifierResult, HARLabels[i]))\n",
    "    if (classifierResult != HARLabels[i]): errorCount += 1.0\n",
    "print (\"the total error rate is: %f\" % (errorCount/float(numTestVecs)))\n",
    "print (errorCount)"
   ]
  },
  {
   "cell_type": "markdown",
   "metadata": {},
   "source": [
    "## 数据集shuffle后，KNN算法精度提升。"
   ]
  }
 ],
 "metadata": {
  "kernelspec": {
   "display_name": "Python 3",
   "language": "python",
   "name": "python3"
  },
  "language_info": {
   "codemirror_mode": {
    "name": "ipython",
    "version": 3
   },
   "file_extension": ".py",
   "mimetype": "text/x-python",
   "name": "python",
   "nbconvert_exporter": "python",
   "pygments_lexer": "ipython3",
   "version": "3.6.4"
  }
 },
 "nbformat": 4,
 "nbformat_minor": 2
}
